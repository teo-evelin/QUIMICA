{
  "cells": [
    {
      "cell_type": "markdown",
      "metadata": {
        "id": "view-in-github",
        "colab_type": "text"
      },
      "source": [
        "<a href=\"https://colab.research.google.com/github/teo-evelin/QUIMICA/blob/main/Termodin%C3%A1mica_vs_cin%C3%A9tica.ipynb\" target=\"_parent\"><img src=\"https://colab.research.google.com/assets/colab-badge.svg\" alt=\"Open In Colab\"/></a>"
      ]
    },
    {
      "cell_type": "markdown",
      "metadata": {
        "id": "LkUQRL9Teq7w"
      },
      "source": [
        "Actividad:\n",
        "\n",
        "(1) Calcular la energía de activación de la reacción química de isomerización del ácido fórmico (cis --> trans)\n",
        "\n",
        "(2) Calcular el tipo de reacción: endotérmica / exotérmica"
      ]
    },
    {
      "cell_type": "markdown",
      "metadata": {
        "id": "HmrbyHzUezZI"
      },
      "source": []
    },
    {
      "cell_type": "markdown",
      "metadata": {
        "id": "AVN2tqX2f3Az"
      },
      "source": [
        "# CINÉTICA Y TERMODINÁMICA\n",
        "---\n"
      ]
    },
    {
      "cell_type": "code",
      "execution_count": null,
      "metadata": {
        "id": "xE_b5Ce1Su26"
      },
      "outputs": [],
      "source": [
        "  %%capture\n",
        "  !pip install rdkit\n",
        "  !pip install pyscf\n",
        "  !pip install rdkit pyscf\n",
        "  !pip install py3Dmol\n",
        "  !pip install --upgrade py3Dmol"
      ]
    },
    {
      "cell_type": "code",
      "execution_count": null,
      "metadata": {
        "id": "EDLpo-8RfoUA"
      },
      "outputs": [],
      "source": [
        "# Importamos librerías\n",
        "from rdkit import Chem\n",
        "from rdkit.Chem import Draw\n",
        "from rdkit.Chem import AllChem\n",
        "from rdkit.Chem.Draw import IPythonConsole\n",
        "IPythonConsole.drawOptions.addAtomIndices = True\n",
        "from pyscf import gto, scf"
      ]
    },
    {
      "cell_type": "markdown",
      "metadata": {
        "id": "kqDuHP2lfJuf"
      },
      "source": [
        "### ESTRUCTURA"
      ]
    },
    {
      "cell_type": "markdown",
      "source": [
        "- Cis"
      ],
      "metadata": {
        "id": "6fJ9UYsdUVi1"
      }
    },
    {
      "cell_type": "code",
      "execution_count": null,
      "metadata": {
        "id": "yIoHZZqNfrxp"
      },
      "outputs": [],
      "source": [
        "# representación SMILES del isómero CIS\n",
        "smi_cis = \"O=CO\"\n",
        "# elemento de RDKit\n",
        "cis = Chem.MolFromSmiles(smi_cis)\n",
        "# agregamos sus hidrógenos\n",
        "cis = Chem.AddHs(cis)\n",
        "# etiquetamos sus átomos y generamos sus coordenadas usando una semilla\n",
        "Chem.AllChem.EmbedMolecule(cis, useRandomCoords=False,randomSeed=1234)\n",
        "# guardamos a un archivo XYZ\n",
        "Chem.MolToXYZFile(cis, \"cis.xyz\")"
      ]
    },
    {
      "cell_type": "code",
      "execution_count": null,
      "metadata": {
        "id": "FoZIMQkuhPKh"
      },
      "outputs": [],
      "source": [
        "!cat cis.xyz"
      ]
    },
    {
      "cell_type": "markdown",
      "metadata": {
        "id": "sqiuTXquhVlZ"
      },
      "source": [
        "- Trans"
      ]
    },
    {
      "cell_type": "code",
      "execution_count": null,
      "metadata": {
        "id": "aYxbi5O0hWPK"
      },
      "outputs": [],
      "source": [
        "smi_trans = \"O=CO\"\n",
        "trans = Chem.MolFromSmiles(smi_trans)\n",
        "trans = Chem.AddHs(trans)\n",
        "Chem.AllChem.EmbedMolecule(trans, useRandomCoords=False,randomSeed=1234)\n",
        "Chem.MolToXYZFile(trans, \"trans.xyz\")"
      ]
    },
    {
      "cell_type": "code",
      "execution_count": null,
      "metadata": {
        "id": "vkyK5VfOhX6R"
      },
      "outputs": [],
      "source": [
        "trans"
      ]
    },
    {
      "cell_type": "code",
      "execution_count": null,
      "metadata": {
        "id": "Fs_zyMd1hdnl"
      },
      "outputs": [],
      "source": [
        "!cat trans.xyz"
      ]
    },
    {
      "cell_type": "markdown",
      "source": [
        "- Diedro"
      ],
      "metadata": {
        "id": "xuqmGRIBaKyC"
      }
    },
    {
      "cell_type": "code",
      "execution_count": null,
      "metadata": {
        "colab": {
          "base_uri": "https://localhost:8080/",
          "height": 167
        },
        "id": "LF2ZbLQRhg5J",
        "outputId": "2565c62f-cc30-4243-a198-c7523a8346db"
      },
      "outputs": [
        {
          "output_type": "execute_result",
          "data": {
            "text/plain": [
              "<rdkit.Chem.rdchem.Mol at 0x7ac9cf051cb0>"
            ],
            "image/png": "[encoded data removed]"
          },
          "metadata": {},
          "execution_count": 127
        }
      ],
      "source": [
        "Chem.AllChem.SetDihedralDeg(cis.GetConformer(0),3,2,1,0,90.0)\n",
        "Chem.MolToXYZFile(cis, \"diedro90.xyz\")\n",
        "cis"
      ]
    },
    {
      "cell_type": "code",
      "source": [
        "!cat diedro90.xyz"
      ],
      "metadata": {
        "id": "Hhsrfpcaa5U9"
      },
      "execution_count": null,
      "outputs": []
    },
    {
      "cell_type": "markdown",
      "metadata": {
        "id": "LbB2oaQTha9s"
      },
      "source": [
        "CALCULO DE ENERGIA"
      ]
    },
    {
      "cell_type": "markdown",
      "metadata": {
        "id": "DVk0-kRHh_pb"
      },
      "source": [
        "- CIS"
      ]
    },
    {
      "cell_type": "code",
      "execution_count": null,
      "metadata": {
        "id": "NbfV0QH5hwns"
      },
      "outputs": [],
      "source": [
        "cis = gto.M(atom=\"cis.xyz\")"
      ]
    },
    {
      "cell_type": "code",
      "execution_count": null,
      "metadata": {
        "id": "QoUf8qOIh1e_"
      },
      "outputs": [],
      "source": [
        "cis.basis = \"6-31G\"\n",
        "mf_cis = cis.KS()\n",
        "mf_cis.xc = 'b3lyp'"
      ]
    },
    {
      "cell_type": "code",
      "execution_count": null,
      "metadata": {
        "colab": {
          "base_uri": "https://localhost:8080/"
        },
        "id": "8UmnOJi9h1Ln",
        "outputId": "5d28be5f-60da-4c80-a7a7-e1a193db1125"
      },
      "outputs": [
        {
          "output_type": "stream",
          "name": "stdout",
          "text": [
            "converged SCF energy = -187.129033059614\n"
          ]
        },
        {
          "output_type": "execute_result",
          "data": {
            "text/plain": [
              "-187.12903305961413"
            ]
          },
          "metadata": {},
          "execution_count": 137
        }
      ],
      "source": [
        "resultado_cis = mf_cis.kernel()\n",
        "resultado_cis"
      ]
    },
    {
      "cell_type": "markdown",
      "metadata": {
        "id": "KOMPSbEhiUZF"
      },
      "source": [
        "- DIEDRO"
      ]
    },
    {
      "cell_type": "code",
      "execution_count": null,
      "metadata": {
        "id": "vSJpeoysiXbx"
      },
      "outputs": [],
      "source": [
        "cis_90 = gto.M(atom=\"diedro90.xyz\")"
      ]
    },
    {
      "cell_type": "code",
      "execution_count": null,
      "metadata": {
        "id": "MGjXA-45iaGq"
      },
      "outputs": [],
      "source": [
        "cis_90.basis = \"6-31G\"\n",
        "mf_90 = cis_90.KS()\n",
        "mf_90.xc = 'b3lyp'"
      ]
    },
    {
      "cell_type": "code",
      "execution_count": null,
      "metadata": {
        "id": "QmF6jdkiid4D",
        "colab": {
          "base_uri": "https://localhost:8080/"
        },
        "outputId": "59200e44-9cd5-4080-9614-9fc3c779ee0c"
      },
      "outputs": [
        {
          "output_type": "stream",
          "name": "stdout",
          "text": [
            "converged SCF energy = -187.113091366987\n"
          ]
        },
        {
          "output_type": "execute_result",
          "data": {
            "text/plain": [
              "-187.11309136698708"
            ]
          },
          "metadata": {},
          "execution_count": 140
        }
      ],
      "source": [
        "resultado_cis_90 = mf_90.kernel()\n",
        "resultado_cis_90"
      ]
    },
    {
      "cell_type": "markdown",
      "metadata": {
        "id": "VV53U8aphvn8"
      },
      "source": [
        "- TRANS"
      ]
    },
    {
      "cell_type": "code",
      "execution_count": null,
      "metadata": {
        "id": "z_6e93yBiJgd"
      },
      "outputs": [],
      "source": [
        "trans = gto.M(atom=\"trans.xyz\")"
      ]
    },
    {
      "cell_type": "code",
      "execution_count": null,
      "metadata": {
        "id": "RqmdprmSiJ4c"
      },
      "outputs": [],
      "source": [
        "trans.basis = \"6-31G\"\n",
        "mf_trans = trans.KS()\n",
        "mf_trans.xc = 'b3lyp'"
      ]
    },
    {
      "cell_type": "code",
      "execution_count": null,
      "metadata": {
        "id": "fsBi-8HZiQYO",
        "colab": {
          "base_uri": "https://localhost:8080/"
        },
        "outputId": "3541c0a8-0b6c-45c5-fe60-27d0a8cb1df7"
      },
      "outputs": [
        {
          "output_type": "stream",
          "name": "stdout",
          "text": [
            "converged SCF energy = -187.129033059614\n"
          ]
        },
        {
          "output_type": "execute_result",
          "data": {
            "text/plain": [
              "-187.1290330596144"
            ]
          },
          "metadata": {},
          "execution_count": 144
        }
      ],
      "source": [
        "resultado_trans= mf_trans.kernel()\n",
        "resultado_trans"
      ]
    },
    {
      "cell_type": "markdown",
      "source": [
        "\n",
        "# Cinética\n",
        "```\n",
        "Calcular la energía de activación\n",
        "```"
      ],
      "metadata": {
        "id": "qwVbxbK8c6CG"
      }
    },
    {
      "cell_type": "code",
      "source": [
        "E_activacion = resultado_cis_90 - resultado_cis\n",
        "E_activacion"
      ],
      "metadata": {
        "id": "tlDyeZNEc24W"
      },
      "execution_count": null,
      "outputs": []
    },
    {
      "cell_type": "markdown",
      "source": [
        "# Termodinámica\n",
        "\n",
        "```\n",
        " Calcular el tipo de reacción\n",
        "```\n",
        "\n"
      ],
      "metadata": {
        "id": "2KSS8m8ud6P0"
      }
    },
    {
      "cell_type": "code",
      "source": [
        "entalpia = resultado_trans - resultado_cis\n",
        "if entalpia>0:\n",
        "  print(\"La reacción es endotérmica\")\n",
        "else:\n",
        "    print(\"La reacción es exotérmica\")"
      ],
      "metadata": {
        "id": "y8auqC7reRV_",
        "outputId": "778fce98-5ce1-488e-9753-8c96f9384b24",
        "colab": {
          "base_uri": "https://localhost:8080/"
        }
      },
      "execution_count": null,
      "outputs": [
        {
          "output_type": "stream",
          "name": "stdout",
          "text": [
            "La reacción es exotérmica\n"
          ]
        }
      ]
    }
  ],
  "metadata": {
    "colab": {
      "provenance": [],
      "include_colab_link": true
    },
    "kernelspec": {
      "display_name": "Python 3",
      "name": "python3"
    },
    "language_info": {
      "name": "python"
    }
  },
  "nbformat": 4,
  "nbformat_minor": 0
}